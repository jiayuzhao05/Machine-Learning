{
 "cells": [
  {
   "cell_type": "markdown",
   "id": "eeda6958",
   "metadata": {},
   "source": [
    "Visualizing Timeseries Data"
   ]
  },
  {
   "cell_type": "code",
   "execution_count": null,
   "id": "fc41bbc2",
   "metadata": {},
   "outputs": [],
   "source": [
    "import matplotlib.pyplot as plt\n",
    "import seaborn as sns\n",
    "\n",
    "%matplotlib inline\n",
    "\n",
    "sns.set(rc={'figure.figsize':(11, 4)})"
   ]
  },
  {
   "cell_type": "markdown",
   "id": "b2e11677",
   "metadata": {},
   "source": [
    "Step 2: Explore basic properties of the dataset\n",
    "\n",
    "Hint: Pandas has functions to do each of these. You should not have to write very much code for each of these?\n",
    "\n",
    "* How many rows and columns does the dataset have?\n",
    "* What are the max, median, mean values for each column in the dataset?\n",
    "* Are any of the numerical columns correlated?"
   ]
  },
  {
   "cell_type": "code",
   "execution_count": null,
   "id": "3d2764e9",
   "metadata": {},
   "outputs": [],
   "source": [
    "# 假设你的DataFrame叫 df\n",
    "print(df.shape)\n",
    "\n",
    "print(\"行数:\", df.shape[0])\n",
    "print(\"列数:\", df.shape[1])"
   ]
  },
  {
   "cell_type": "code",
   "execution_count": null,
   "id": "56ddd36b",
   "metadata": {},
   "outputs": [],
   "source": [
    "print(\"最大值：\")\n",
    "print(df.max())\n",
    "\n",
    "print(\"中位数：\")\n",
    "print(df.median())\n",
    "\n",
    "print(\"均值：\")\n",
    "print(df.mean())"
   ]
  },
  {
   "cell_type": "code",
   "execution_count": null,
   "id": "9061cd85",
   "metadata": {},
   "outputs": [],
   "source": [
    "print(df.corr())  # 输出一个相关系数矩阵，显示每对数值型列之间的相关性"
   ]
  },
  {
   "cell_type": "markdown",
   "id": "8ff2207c",
   "metadata": {},
   "source": [
    "Step 3: Explore distributions and visualizations\n",
    "\n",
    "Exploring distributions, looking for outliers, and visualizing your dataset may help you understand its properties better. It is valuable to look for outliers in the dataset, as well.\n",
    "\n",
    "Try one of the following on your data:\n",
    "* Plot a cumulative distribution function of one or more of the features\n",
    "* Plot a box-and-whiskers plot to explore the distribution(s) of one or more of the features\n",
    "* If appropriate, plot a timeseries of some of the features to observe trends"
   ]
  },
  {
   "cell_type": "markdown",
   "id": "44ecea29",
   "metadata": {},
   "source": [
    "CDF 累计分布函数"
   ]
  },
  {
   "cell_type": "code",
   "execution_count": null,
   "id": "4dbc4cb8",
   "metadata": {},
   "outputs": [],
   "source": [
    "import matplotlib.pyplot as plt\n",
    "import numpy as np\n",
    "\n",
    "data = df['rides'].dropna()\n",
    "sorted_data = np.sort(data)\n",
    "cdf = np.arange(1, len(sorted_data)+1) / len(sorted_data)\n",
    "\n",
    "plt.plot(sorted_data, cdf)\n",
    "plt.xlabel('rides')\n",
    "plt.ylabel('Cumulative Probability')\n",
    "plt.title('CDF of rides')\n",
    "plt.show()"
   ]
  },
  {
   "cell_type": "markdown",
   "id": "6ec326d1",
   "metadata": {},
   "source": [
    "Box-and-Whiskers Plot"
   ]
  },
  {
   "cell_type": "code",
   "execution_count": null,
   "id": "a183bc19",
   "metadata": {},
   "outputs": [],
   "source": [
    "import matplotlib.pyplot as plt\n",
    "\n",
    "df.boxplot(column='rides')\n",
    "plt.title('Boxplot of rides')\n",
    "plt.show()\n",
    "\n",
    "df.boxplot()\n",
    "plt.title('Boxplot of all features')\n",
    "plt.show()"
   ]
  },
  {
   "cell_type": "markdown",
   "id": "c4cf650d",
   "metadata": {},
   "source": [
    "Timeseries"
   ]
  },
  {
   "cell_type": "code",
   "execution_count": null,
   "id": "646f96ca",
   "metadata": {},
   "outputs": [],
   "source": [
    "df.plot(x='date', y='rides', kind='line')\n",
    "plt.title('Time Series of rides')\n",
    "plt.xlabel('Date')\n",
    "plt.ylabel('Rides')\n",
    "plt.show()"
   ]
  },
  {
   "cell_type": "markdown",
   "id": "8ff69f22",
   "metadata": {},
   "source": [
    "Linear Regression in Python/Scikit-Learn"
   ]
  },
  {
   "cell_type": "code",
   "execution_count": null,
   "id": "099a4593",
   "metadata": {},
   "outputs": [],
   "source": [
    "plt.plot(points_x, points_y, '.', color='blue', markersize=12)  # 画原始数据点\n",
    "\n",
    "plt.plot([-2, 35], np.array([-2,35])*m + b, '-', color='green', linewidth=3, alpha=0.6)  # 画拟合直线\n",
    "plt.plot([-2, 35], best_line_ys, color='red', alpha=0.4, linewidth=3)  # 画最佳拟合直线(scikit-learn预测)"
   ]
  }
 ],
 "metadata": {
  "language_info": {
   "name": "python"
  }
 },
 "nbformat": 4,
 "nbformat_minor": 5
}
