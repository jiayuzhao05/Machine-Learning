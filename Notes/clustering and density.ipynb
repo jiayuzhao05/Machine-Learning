{
 "cells": [
  {
   "cell_type": "markdown",
   "id": "98d11117",
   "metadata": {},
   "source": [
    "# Clustering"
   ]
  },
  {
   "cell_type": "code",
   "execution_count": 1,
   "id": "f554921e",
   "metadata": {},
   "outputs": [],
   "source": [
    "import pandas as pd\n",
    "import matplotlib \n",
    "from matplotlib import pyplot as plt\n",
    "import numpy as np\n",
    "\n",
    "%matplotlib inline\n",
    "from sklearn.cluster import KMeans, MiniBatchKMeans"
   ]
  },
  {
   "cell_type": "code",
   "execution_count": null,
   "id": "cfdc1436",
   "metadata": {},
   "outputs": [],
   "source": [
    "df = pd.read_csv('../data/curr_httpgetmt.csv.gz', compression='gzip', error_bad_lines=False)\n",
    "df = df.loc[:,['unit_id','dtime','target','address','bytes_sec']]\n",
    "df.head(10)"
   ]
  },
  {
   "cell_type": "code",
   "execution_count": null,
   "id": "b012794c",
   "metadata": {},
   "outputs": [],
   "source": [
    "df['unit_id'].nunique()\n",
    "\n",
    "df.shape()"
   ]
  },
  {
   "cell_type": "code",
   "execution_count": null,
   "id": "d59bd07b",
   "metadata": {},
   "outputs": [],
   "source": [
    "max_df = df.groupby(['unit_id']).max()\n",
    "max_df = max_df.sort_values(by=['bytes_sec'])\n",
    "max_df = max_df.replace(0, np.nan).dropna().reset_index()\n",
    "max_df.drop(columns=['dtime','address'],inplace=True)\n",
    "max_df.reset_index()\n",
    "max_df['rank'] = max_df.index\n",
    "max_df"
   ]
  },
  {
   "cell_type": "code",
   "execution_count": null,
   "id": "25143919",
   "metadata": {},
   "outputs": [],
   "source": [
    "plt.plot(max_df.index,(max_df['bytes_sec']*8)/(1024*1024),'*')"
   ]
  },
  {
   "cell_type": "markdown",
   "id": "dbcd07c8",
   "metadata": {},
   "source": [
    "# Kmeans clustering"
   ]
  },
  {
   "cell_type": "code",
   "execution_count": null,
   "id": "29de7f0a",
   "metadata": {},
   "outputs": [],
   "source": [
    "s = pd.merge(df,max_df, on=['unit_id']).sort_values(by='rank').reset_index()"
   ]
  },
  {
   "cell_type": "code",
   "execution_count": null,
   "id": "5725c846",
   "metadata": {},
   "outputs": [],
   "source": [
    "cluster = KMeans(n_clusters=3)\n",
    "cluster.fit(s['bytes_sec_y'].values.reshape(-1,1))"
   ]
  },
  {
   "cell_type": "code",
   "execution_count": null,
   "id": "cbb0fb84",
   "metadata": {},
   "outputs": [],
   "source": [
    "import matplotlib.cm as cm\n",
    "\n",
    "colormap = cm.rainbow(np.linspace(0, 1, len(cluster.cluster_centers_)))\n",
    "plt.scatter(s['rank']/len(max_df),(s['bytes_sec_x']*8)/(1024*1024),c=colormap[cluster.labels_])"
   ]
  },
  {
   "cell_type": "markdown",
   "id": "a9c3292c",
   "metadata": {},
   "source": [
    "# Density and Distribution-Based Clustering"
   ]
  },
  {
   "cell_type": "code",
   "execution_count": null,
   "id": "07da919e",
   "metadata": {},
   "outputs": [],
   "source": [
    "import pandas as pd\n",
    "import numpy as np\n",
    "from numpy import array, linspace\n",
    "\n",
    "from matplotlib import pyplot as plt\n",
    "from matplotlib.pyplot import plot\n",
    "import seaborn as sns; sns.set()\n",
    "%matplotlib inline\n",
    "\n",
    "from sklearn.preprocessing import StandardScaler\n",
    "from sklearn.neighbors import KernelDensity\n",
    "from sklearn.cluster import KMeans, DBSCAN, MeanShift\n",
    "from sklearn.mixture import GaussianMixture as GMM"
   ]
  },
  {
   "cell_type": "markdown",
   "id": "0c0d1e2a",
   "metadata": {},
   "source": [
    "## Data: FCC Measuring Broadband America \n",
    "\n",
    "load the throughput and latency data from the [FCC Measuring Broadband America program](https://www.fcc.gov/oet/mba/raw-data-releases) from March 2020."
   ]
  },
  {
   "cell_type": "code",
   "execution_count": null,
   "id": "b81468a2",
   "metadata": {},
   "outputs": [],
   "source": [
    "df = pd.read_csv('../data/curr_httpgetmt.csv.gz', compression='gzip', error_bad_lines=False)\n",
    "df_backup = df.copy()\n",
    "\n",
    "df = df.loc[:,['unit_id','dtime','target','address','bytes_sec']]\n",
    "df = df[(df['dtime'] < '2020-03-02') & (df['target']=='samknows1.nyc2.level3.net')]\n",
    "df.head(10)"
   ]
  },
  {
   "cell_type": "code",
   "execution_count": null,
   "id": "1dd8fbc7",
   "metadata": {},
   "outputs": [],
   "source": [
    "# Take the mean throughput measurement for each unit.\n",
    "mean_df = df.groupby(['unit_id']).mean()\n",
    "mean_df = mean_df.sort_values(by=['bytes_sec'])\n",
    "\n",
    "# Drop garbage data and unnecessary colums.\n",
    "mean_df = mean_df.replace(0, np.nan).dropna().reset_index()\n",
    "#mean_df.drop(columns=['dtime','address'],inplace=True)\n",
    "\n",
    "# Create a rank so that we plot in order of increasing throughput.\n",
    "mean_df.reset_index()\n",
    "mean_df['rank'] = mean_df.index\n",
    "\n",
    "# Create a column for \"speed\" which is throughput in megabits per second (a common metric).\n",
    "mean_df['speed'] = (mean_df['bytes_sec']*8)/(1024*1024)\n",
    "\n",
    "\n",
    "plt.plot(mean_df.index,mean_df['speed'],'*')\n",
    "plt.xlabel('Throughput (Mbps)')\n",
    "plt.show()"
   ]
  },
  {
   "cell_type": "code",
   "execution_count": null,
   "id": "c87cef98",
   "metadata": {},
   "outputs": [],
   "source": [
    "dfp = pd.read_csv('../data/curr_ping.csv.gz', compression='gzip', error_bad_lines=False)\n",
    "dfp_backup = dfp.copy\n",
    "\n",
    "dfp = dfp.loc[:,['unit_id','dtime','target','rtt_avg']]\n",
    "dfp = dfp[(dfp['dtime'] < '2020-03-02') & (dfp['target']=='samknows1.nyc2.level3.net')]\n",
    "\n",
    "mean_dfp = dfp.groupby(['unit_id']).mean()\n",
    "mean_dfp = mean_dfp.sort_values(by=['rtt_avg'])\n",
    "mean_dfp = mean_dfp.replace(0, np.nan).dropna().reset_index()\n",
    "\n",
    "mean_dfp.head(10)"
   ]
  },
  {
   "cell_type": "markdown",
   "id": "ca557cc7",
   "metadata": {},
   "source": [
    "### Latency: 1-D Kernel Density Estimation"
   ]
  },
  {
   "cell_type": "code",
   "execution_count": null,
   "id": "8d039230",
   "metadata": {},
   "outputs": [],
   "source": [
    "latency = mean_dfp['rtt_avg'].values.reshape(-1,1)\n",
    "kde_l = KernelDensity(kernel='gaussian', bandwidth=10).fit(latency)\n",
    "e_l = np.exp(kde_l.score_samples(latency))\n",
    "plt.xscale('log')\n",
    "plt.xlabel('Latency (milliseconds)')\n",
    "plt.plot(latency/1000,e_l,'-')\n",
    "plt.show()"
   ]
  },
  {
   "cell_type": "markdown",
   "id": "f5836f8d",
   "metadata": {},
   "source": [
    "Clustering"
   ]
  },
  {
   "cell_type": "code",
   "execution_count": null,
   "id": "e0a861c7",
   "metadata": {},
   "outputs": [],
   "source": [
    "all_df = mean_df.merge(mean_dfp,on='unit_id')\n",
    "l = (all_df['rtt_avg']/1000).values.reshape(-1,1)\n",
    "s = all_df['speed'].values.reshape(-1,1)\n",
    "plt.xscale('log')\n",
    "plt.xlabel('Latency (milliseconds)')\n",
    "plt.ylabel('Throughput (Mbps)')\n",
    "\n",
    "plt.plot(l,s,'*')\n",
    "plt.show()"
   ]
  },
  {
   "cell_type": "code",
   "execution_count": null,
   "id": "12926dfd",
   "metadata": {},
   "outputs": [],
   "source": [
    "cluster = DBSCAN(min_samples=10, eps=0.5)\n",
    "X = all_df.loc[:,['rtt_avg','speed']]\n",
    "\n",
    "scaler = StandardScaler()\n",
    "X_std = scaler.fit_transform(X)\n",
    "model = cluster.fit(X_std)\n",
    "\n",
    "labels = model.labels_\n",
    "\n",
    "plt.xscale('log')\n",
    "plt.xlabel('Latency (milliseconds)')\n",
    "plt.ylabel('Throughput (Mbps)')\n",
    "plt.scatter(l,s, c=labels, cmap='brg')\n",
    "plt.show()"
   ]
  },
  {
   "cell_type": "code",
   "execution_count": null,
   "id": "41401078",
   "metadata": {},
   "outputs": [],
   "source": [
    "# Generate some data\n",
    "from sklearn.datasets import make_blobs\n",
    "X, y_true = make_blobs(n_samples=400, centers=4,\n",
    "                       cluster_std=0.60, random_state=0)\n",
    "X = X[:, ::-1] # flip axes for better plotting\n",
    "\n",
    "kmeans = KMeans(4, random_state=0)\n",
    "labels = kmeans.fit(X).predict(X)\n",
    "plt.scatter(X[:, 0], X[:, 1], c=labels, s=40, cmap='viridis');"
   ]
  },
  {
   "cell_type": "code",
   "execution_count": null,
   "id": "59ce8630",
   "metadata": {},
   "outputs": [],
   "source": [
    "from scipy.spatial.distance import cdist\n",
    "\n",
    "def plot_kmeans(kmeans, X, n_clusters=4, rseed=0, ax=None):\n",
    "    labels = kmeans.fit_predict(X)\n",
    "\n",
    "    # plot the input data\n",
    "    ax = ax or plt.gca()\n",
    "    ax.axis('equal')\n",
    "    ax.scatter(X[:, 0], X[:, 1], c=labels, s=40, cmap='viridis', zorder=2)\n",
    "\n",
    "    # plot the representation of the KMeans model\n",
    "    centers = kmeans.cluster_centers_\n",
    "    radii = [cdist(X[labels == i], [center]).max()\n",
    "             for i, center in enumerate(centers)]\n",
    "    for c, r in zip(centers, radii):\n",
    "        ax.add_patch(plt.Circle(c, r, fc='#CCCCCC', lw=3, alpha=0.5, zorder=1))\n",
    "\n",
    "\n",
    "kmeans = KMeans(n_clusters=4, random_state=0)\n",
    "plot_kmeans(kmeans, X)"
   ]
  },
  {
   "cell_type": "code",
   "execution_count": null,
   "id": "b6a9fb19",
   "metadata": {},
   "outputs": [],
   "source": [
    "gmm = GMM(n_components=4).fit(X)\n",
    "labels = gmm.predict(X)\n",
    "plt.scatter(X[:, 0], X[:, 1], c=labels, s=40, cmap='viridis');"
   ]
  }
 ],
 "metadata": {
  "kernelspec": {
   "display_name": "Python 3",
   "language": "python",
   "name": "python3"
  },
  "language_info": {
   "codemirror_mode": {
    "name": "ipython",
    "version": 3
   },
   "file_extension": ".py",
   "mimetype": "text/x-python",
   "name": "python",
   "nbconvert_exporter": "python",
   "pygments_lexer": "ipython3",
   "version": "3.13.3"
  }
 },
 "nbformat": 4,
 "nbformat_minor": 5
}
