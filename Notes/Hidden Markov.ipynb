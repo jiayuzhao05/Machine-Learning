{
 "cells": [
  {
   "cell_type": "markdown",
   "id": "388f410c",
   "metadata": {},
   "source": [
    "# Hidden Markov models"
   ]
  },
  {
   "cell_type": "code",
   "execution_count": 2,
   "id": "ecbaa6c0",
   "metadata": {},
   "outputs": [
    {
     "name": "stdout",
     "output_type": "stream",
     "text": [
      "^C\n",
      "Note: you may need to restart the kernel to use updated packages.\n"
     ]
    }
   ],
   "source": [
    "%pip install hmmlearn"
   ]
  },
  {
   "cell_type": "code",
   "execution_count": 3,
   "id": "b6c20550",
   "metadata": {},
   "outputs": [
    {
     "name": "stdout",
     "output_type": "stream",
     "text": [
      "Defaulting to user installation because normal site-packages is not writeable\n",
      "Collecting hmmlearn\n",
      "  Using cached hmmlearn-0.3.3-cp312-cp312-win_amd64.whl.metadata (3.1 kB)\n",
      "Requirement already satisfied: numpy>=1.10 in c:\\users\\admin\\appdata\\local\\packages\\pythonsoftwarefoundation.python.3.12_qbz5n2kfra8p0\\localcache\\local-packages\\python312\\site-packages (from hmmlearn) (2.2.6)\n",
      "Requirement already satisfied: scikit-learn!=0.22.0,>=0.16 in c:\\users\\admin\\appdata\\local\\packages\\pythonsoftwarefoundation.python.3.12_qbz5n2kfra8p0\\localcache\\local-packages\\python312\\site-packages (from hmmlearn) (1.6.1)\n",
      "Requirement already satisfied: scipy>=0.19 in c:\\users\\admin\\appdata\\local\\packages\\pythonsoftwarefoundation.python.3.12_qbz5n2kfra8p0\\localcache\\local-packages\\python312\\site-packages (from hmmlearn) (1.15.3)\n",
      "Requirement already satisfied: joblib>=1.2.0 in c:\\users\\admin\\appdata\\local\\packages\\pythonsoftwarefoundation.python.3.12_qbz5n2kfra8p0\\localcache\\local-packages\\python312\\site-packages (from scikit-learn!=0.22.0,>=0.16->hmmlearn) (1.5.0)\n",
      "Requirement already satisfied: threadpoolctl>=3.1.0 in c:\\users\\admin\\appdata\\local\\packages\\pythonsoftwarefoundation.python.3.12_qbz5n2kfra8p0\\localcache\\local-packages\\python312\\site-packages (from scikit-learn!=0.22.0,>=0.16->hmmlearn) (3.6.0)\n",
      "Using cached hmmlearn-0.3.3-cp312-cp312-win_amd64.whl (127 kB)\n",
      "Installing collected packages: hmmlearn\n",
      "Successfully installed hmmlearn-0.3.3\n"
     ]
    },
    {
     "name": "stderr",
     "output_type": "stream",
     "text": [
      "\n",
      "[notice] A new release of pip is available: 25.0.1 -> 25.1.1\n",
      "[notice] To update, run: C:\\Users\\Admin\\AppData\\Local\\Microsoft\\WindowsApps\\PythonSoftwareFoundation.Python.3.12_qbz5n2kfra8p0\\python.exe -m pip install --upgrade pip\n"
     ]
    }
   ],
   "source": [
    "import numpy as np\n",
    "import matplotlib.pyplot as plt\n",
    "\n",
    "import pandas as pd\n",
    "\n",
    "from hmmlearn import hmm"
   ]
  },
  {
   "cell_type": "code",
   "execution_count": 5,
   "id": "47645a3f",
   "metadata": {},
   "outputs": [],
   "source": [
    "# Prepare parameters for a 4-components HMM\n",
    "# Initial population probability\n",
    "startprob = np.array([0.6, 0.3, 0.1, 0.0])\n",
    "\n",
    "# The transition matrix, note that there are no transitions possible\n",
    "# between component 1 and 3\n",
    "transmat = np.array([[0.7, 0.2, 0.0, 0.1],\n",
    "                     [0.3, 0.5, 0.2, 0.0],\n",
    "                     [0.0, 0.3, 0.5, 0.2],\n",
    "                     [0.2, 0.0, 0.2, 0.6]])\n",
    "\n",
    "# The means of each component\n",
    "means = np.array([[0.0,  0.0],\n",
    "                  [0.0, 11.0],\n",
    "                  [9.0, 10.0],\n",
    "                  [11.0, -1.0]])\n",
    "\n",
    "# The covariance of each component\n",
    "covars = .5 * np.tile(np.identity(2), (4, 1, 1))"
   ]
  },
  {
   "cell_type": "markdown",
   "id": "667b7d36",
   "metadata": {},
   "source": [
    "## Hidden Markov Models on Divvy Bike Trips"
   ]
  },
  {
   "cell_type": "code",
   "execution_count": 6,
   "id": "4ecae8fa",
   "metadata": {},
   "outputs": [],
   "source": [
    "import numpy as np\n",
    "import matplotlib.pyplot as plt\n",
    "%matplotlib inline\n",
    "import pandas as pd\n",
    "\n",
    "from hmmlearn import hmm"
   ]
  },
  {
   "cell_type": "code",
   "execution_count": null,
   "id": "2e36e9a0",
   "metadata": {},
   "outputs": [],
   "source": [
    "df = pd.read_csv(\"../data/Divvy_Trips_2018.csv.gz\", compression='gzip')\n",
    "df.head()"
   ]
  },
  {
   "cell_type": "code",
   "execution_count": null,
   "id": "54efb60f",
   "metadata": {},
   "outputs": [],
   "source": [
    "rides = df.loc[:,['START TIME','TRIP DURATION']]\n",
    "rides.head()"
   ]
  },
  {
   "cell_type": "code",
   "execution_count": null,
   "id": "3d59f818",
   "metadata": {},
   "outputs": [],
   "source": [
    "rides['Date'] = pd.to_datetime(rides['START TIME']).dt.date"
   ]
  },
  {
   "cell_type": "code",
   "execution_count": null,
   "id": "dfa4049b",
   "metadata": {},
   "outputs": [],
   "source": [
    "rides.sort_values(by='START TIME', inplace=True)\n",
    "rides.head()"
   ]
  },
  {
   "cell_type": "code",
   "execution_count": null,
   "id": "3c7a52db",
   "metadata": {},
   "outputs": [],
   "source": [
    "X = rides.groupby('Date').sum()\n",
    "plt.plot(X)\n",
    "plt.show()"
   ]
  },
  {
   "cell_type": "markdown",
   "id": "6d76e279",
   "metadata": {},
   "source": [
    "### Training a Hidden Markov Model"
   ]
  },
  {
   "cell_type": "code",
   "execution_count": null,
   "id": "e3b5c3f5",
   "metadata": {},
   "outputs": [],
   "source": [
    "model = hmm.GaussianHMM(n_components=2, n_iter=1000)\n",
    "model.fit(X)"
   ]
  },
  {
   "cell_type": "code",
   "execution_count": null,
   "id": "17a7bf5d",
   "metadata": {},
   "outputs": [],
   "source": [
    "X['states'] = model.predict(X)\n",
    "\n",
    "plt.plot(X['states'])\n",
    "plt.show()"
   ]
  },
  {
   "cell_type": "markdown",
   "id": "e2fc5c64",
   "metadata": {},
   "source": [
    "这是HMM的解码过程，即根据观测序列推断最可能的隐藏状态序列\n",
    "\n",
    "使用Viterbi算法找到最优状态路径\n",
    "\n",
    "可以看到系统在不同时间点处于哪个隐藏状态"
   ]
  },
  {
   "cell_type": "markdown",
   "id": "427bd1a6",
   "metadata": {},
   "source": [
    "### Generating Additional Sequences"
   ]
  },
  {
   "cell_type": "code",
   "execution_count": null,
   "id": "5074c4e6",
   "metadata": {},
   "outputs": [],
   "source": [
    "p = model.sample(100)\n",
    "plt.plot(p[0])\n",
    "plt.show()"
   ]
  },
  {
   "cell_type": "markdown",
   "id": "a15833ec",
   "metadata": {},
   "source": [
    "p[0]：生成的观测数据序列\n",
    "\n",
    "p[1]：对应的隐藏状态序列"
   ]
  },
  {
   "cell_type": "code",
   "execution_count": null,
   "id": "6c5a1c1b",
   "metadata": {},
   "outputs": [],
   "source": [
    "p[1]"
   ]
  },
  {
   "cell_type": "markdown",
   "id": "c397ab17",
   "metadata": {},
   "source": [
    "显示model.sample(100)生成的隐藏状态序列\n",
    "\n",
    "这是一个长度为100的数组，每个元素表示对应时刻的隐藏状态编号"
   ]
  },
  {
   "cell_type": "markdown",
   "id": "72dc0211",
   "metadata": {},
   "source": [
    "评估问题：给定模型和观测序列，计算观测序列的概率\n",
    "\n",
    "解码问题：给定模型和观测序列，找到最可能的状态序列（predict方法）\n",
    "\n",
    "学习问题：给定观测序列，估计模型参数（fit方法）"
   ]
  }
 ],
 "metadata": {
  "kernelspec": {
   "display_name": "Python 3",
   "language": "python",
   "name": "python3"
  },
  "language_info": {
   "codemirror_mode": {
    "name": "ipython",
    "version": 3
   },
   "file_extension": ".py",
   "mimetype": "text/x-python",
   "name": "python",
   "nbconvert_exporter": "python",
   "pygments_lexer": "ipython3",
   "version": "3.12.10"
  }
 },
 "nbformat": 4,
 "nbformat_minor": 5
}
